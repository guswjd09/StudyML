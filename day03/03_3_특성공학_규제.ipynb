{
 "cells": [
  {
   "cell_type": "markdown",
   "metadata": {},
   "source": [
    "###  사전 준비"
   ]
  },
  {
   "cell_type": "code",
   "execution_count": 138,
   "metadata": {},
   "outputs": [],
   "source": [
    "# 기본 패키지 import\n",
    "import numpy as np\n",
    "import pandas as pd\n",
    "import scipy as sp\n",
    "\n",
    "import matplotlib as mpl\n",
    "import matplotlib.pyplot as plt\n",
    "import seaborn as sns"
   ]
  },
  {
   "cell_type": "code",
   "execution_count": 139,
   "metadata": {},
   "outputs": [],
   "source": [
    "# 머신러닝 패키지 import\n",
    "import statsmodels.api as sn # 안쓸껄?\n",
    "import sklearn as sk"
   ]
  },
  {
   "cell_type": "code",
   "execution_count": 140,
   "metadata": {},
   "outputs": [],
   "source": [
    "# 한글 설정 / 차트 마이너스 깨짐 현상 해결 / seaborn 화면 설정\n",
    "from matplotlib import rc\n",
    "import matplotlib.font_manager as fm\n",
    "\n",
    "plt.rc('font', family='Malgun Gothic')\n",
    "sns.set(font='Malgun Gothic', rc={'axes.unicode_minus':False}, style='darkgrid')"
   ]
  },
  {
   "cell_type": "markdown",
   "metadata": {},
   "source": [
    "### 특성 공학 / 규제\n",
    "### 데이터 준비"
   ]
  },
  {
   "cell_type": "code",
   "execution_count": 141,
   "metadata": {},
   "outputs": [
    {
     "data": {
      "text/html": [
       "<div>\n",
       "<style scoped>\n",
       "    .dataframe tbody tr th:only-of-type {\n",
       "        vertical-align: middle;\n",
       "    }\n",
       "\n",
       "    .dataframe tbody tr th {\n",
       "        vertical-align: top;\n",
       "    }\n",
       "\n",
       "    .dataframe thead th {\n",
       "        text-align: right;\n",
       "    }\n",
       "</style>\n",
       "<table border=\"1\" class=\"dataframe\">\n",
       "  <thead>\n",
       "    <tr style=\"text-align: right;\">\n",
       "      <th></th>\n",
       "      <th>length</th>\n",
       "      <th>height</th>\n",
       "      <th>width</th>\n",
       "    </tr>\n",
       "  </thead>\n",
       "  <tbody>\n",
       "    <tr>\n",
       "      <th>51</th>\n",
       "      <td>42.0</td>\n",
       "      <td>12.80</td>\n",
       "      <td>6.87</td>\n",
       "    </tr>\n",
       "    <tr>\n",
       "      <th>52</th>\n",
       "      <td>43.0</td>\n",
       "      <td>11.93</td>\n",
       "      <td>7.28</td>\n",
       "    </tr>\n",
       "    <tr>\n",
       "      <th>53</th>\n",
       "      <td>43.0</td>\n",
       "      <td>12.51</td>\n",
       "      <td>7.42</td>\n",
       "    </tr>\n",
       "    <tr>\n",
       "      <th>54</th>\n",
       "      <td>43.5</td>\n",
       "      <td>12.60</td>\n",
       "      <td>8.14</td>\n",
       "    </tr>\n",
       "    <tr>\n",
       "      <th>55</th>\n",
       "      <td>44.0</td>\n",
       "      <td>12.49</td>\n",
       "      <td>7.60</td>\n",
       "    </tr>\n",
       "  </tbody>\n",
       "</table>\n",
       "</div>"
      ],
      "text/plain": [
       "    length   height   width\n",
       "51    42.0    12.80    6.87\n",
       "52    43.0    11.93    7.28\n",
       "53    43.0    12.51    7.42\n",
       "54    43.5    12.60    8.14\n",
       "55    44.0    12.49    7.60"
      ]
     },
     "execution_count": 141,
     "metadata": {},
     "output_type": "execute_result"
    }
   ],
   "source": [
    "df = pd.read_csv('https://bit.ly/perch_csv')\n",
    "df.tail()"
   ]
  },
  {
   "cell_type": "code",
   "execution_count": 142,
   "metadata": {},
   "outputs": [
    {
     "data": {
      "text/plain": [
       "array([[ 8.4 ,  2.11,  1.41],\n",
       "       [13.7 ,  3.53,  2.  ],\n",
       "       [15.  ,  3.82,  2.43],\n",
       "       [16.2 ,  4.59,  2.63],\n",
       "       [17.4 ,  4.59,  2.94],\n",
       "       [18.  ,  5.22,  3.32],\n",
       "       [18.7 ,  5.2 ,  3.12],\n",
       "       [19.  ,  5.64,  3.05],\n",
       "       [19.6 ,  5.14,  3.04],\n",
       "       [20.  ,  5.08,  2.77],\n",
       "       [21.  ,  5.69,  3.56],\n",
       "       [21.  ,  5.92,  3.31],\n",
       "       [21.  ,  5.69,  3.67],\n",
       "       [21.3 ,  6.38,  3.53],\n",
       "       [22.  ,  6.11,  3.41],\n",
       "       [22.  ,  5.64,  3.52],\n",
       "       [22.  ,  6.11,  3.52],\n",
       "       [22.  ,  5.88,  3.52],\n",
       "       [22.  ,  5.52,  4.  ],\n",
       "       [22.5 ,  5.86,  3.62],\n",
       "       [22.5 ,  6.79,  3.62],\n",
       "       [22.7 ,  5.95,  3.63],\n",
       "       [23.  ,  5.22,  3.63],\n",
       "       [23.5 ,  6.28,  3.72],\n",
       "       [24.  ,  7.29,  3.72],\n",
       "       [24.  ,  6.38,  3.82],\n",
       "       [24.6 ,  6.73,  4.17],\n",
       "       [25.  ,  6.44,  3.68],\n",
       "       [25.6 ,  6.56,  4.24],\n",
       "       [26.5 ,  7.17,  4.14],\n",
       "       [27.3 ,  8.32,  5.14],\n",
       "       [27.5 ,  7.17,  4.34],\n",
       "       [27.5 ,  7.05,  4.34],\n",
       "       [27.5 ,  7.28,  4.57],\n",
       "       [28.  ,  7.82,  4.2 ],\n",
       "       [28.7 ,  7.59,  4.64],\n",
       "       [30.  ,  7.62,  4.77],\n",
       "       [32.8 , 10.03,  6.02],\n",
       "       [34.5 , 10.26,  6.39],\n",
       "       [35.  , 11.49,  7.8 ],\n",
       "       [36.5 , 10.88,  6.86],\n",
       "       [36.  , 10.61,  6.74],\n",
       "       [37.  , 10.84,  6.26],\n",
       "       [37.  , 10.57,  6.37],\n",
       "       [39.  , 11.14,  7.49],\n",
       "       [39.  , 11.14,  6.  ],\n",
       "       [39.  , 12.43,  7.35],\n",
       "       [40.  , 11.93,  7.11],\n",
       "       [40.  , 11.73,  7.22],\n",
       "       [40.  , 12.38,  7.46],\n",
       "       [40.  , 11.14,  6.63],\n",
       "       [42.  , 12.8 ,  6.87],\n",
       "       [43.  , 11.93,  7.28],\n",
       "       [43.  , 12.51,  7.42],\n",
       "       [43.5 , 12.6 ,  8.14],\n",
       "       [44.  , 12.49,  7.6 ]])"
      ]
     },
     "execution_count": 142,
     "metadata": {},
     "output_type": "execute_result"
    }
   ],
   "source": [
    "perch_full = df.to_numpy()\n",
    "perch_full"
   ]
  },
  {
   "cell_type": "markdown",
   "metadata": {},
   "source": [
    "#### 농어데이터\n",
    "농어의 길이, 높이, 두께 --> 농어의 무게를 예측\n",
    "\n",
    "무게 데이터"
   ]
  },
  {
   "cell_type": "code",
   "execution_count": 143,
   "metadata": {},
   "outputs": [],
   "source": [
    "perch_weight = np.array([5.9, 32.0, 40.0, 51.5, 70.0, 100.0, 78.0, 80.0, 85.0, 85.0,\n",
    "                        110.0, 115.0, 125.0, 130.0, 120.0, 120.0, 130.0, 135.0, 110.0, \n",
    "                        130.0, 150.0, 145.0, 150.0, 170.0, 225.0, 145.0, 188.0, 180.0,\n",
    "                        197.0, 218.0, 300.0, 260.0, 265.0, 250.0, 250.0, 300.0, 320.0, \n",
    "                        514.0, 556.0, 840.0, 685.0, 700.0, 700.0, 690.0, 900.0, 650.0, \n",
    "                        820.0, 850.0, 900.0, 1015.0, 820.0, 1100.0, 1000.0, 1100.0, 1000.0, 1000.0])"
   ]
  },
  {
   "cell_type": "code",
   "execution_count": 144,
   "metadata": {},
   "outputs": [
    {
     "data": {
      "text/plain": [
       "56"
      ]
     },
     "execution_count": 144,
     "metadata": {},
     "output_type": "execute_result"
    }
   ],
   "source": [
    "len(perch_weight)"
   ]
  },
  {
   "cell_type": "markdown",
   "metadata": {},
   "source": [
    "#### 훈련세트 / 데이터세트 나누기"
   ]
  },
  {
   "cell_type": "code",
   "execution_count": 145,
   "metadata": {},
   "outputs": [],
   "source": [
    "from sklearn.model_selection import train_test_split\n",
    "\n",
    "train_input, test_input, train_target, test_target = train_test_split(perch_full, perch_weight, random_state=42)"
   ]
  },
  {
   "cell_type": "code",
   "execution_count": 146,
   "metadata": {},
   "outputs": [
    {
     "name": "stdout",
     "output_type": "stream",
     "text": [
      "(42, 3)\n",
      "(14, 3)\n"
     ]
    }
   ],
   "source": [
    "print(train_input.shape)\n",
    "print(test_input.shape)"
   ]
  },
  {
   "cell_type": "code",
   "execution_count": 147,
   "metadata": {},
   "outputs": [
    {
     "name": "stdout",
     "output_type": "stream",
     "text": [
      "(14,)\n",
      "(42,)\n"
     ]
    }
   ],
   "source": [
    "print(test_target.shape)\n",
    "print(train_target.shape)"
   ]
  },
  {
   "cell_type": "markdown",
   "metadata": {},
   "source": [
    "#### 사이킷런 변환기\n",
    "\n",
    "특성이 하나 이상일때 하나의 특성(새 회귀방정식)만드는 것"
   ]
  },
  {
   "cell_type": "code",
   "execution_count": 148,
   "metadata": {},
   "outputs": [],
   "source": [
    "from sklearn.preprocessing import PolynomialFeatures"
   ]
  },
  {
   "cell_type": "markdown",
   "metadata": {},
   "source": [
    "##### 예제"
   ]
  },
  {
   "cell_type": "code",
   "execution_count": 149,
   "metadata": {},
   "outputs": [
    {
     "data": {
      "text/plain": [
       "array([[1., 2., 3., 4., 6., 9.]])"
      ]
     },
     "execution_count": 149,
     "metadata": {},
     "output_type": "execute_result"
    }
   ],
   "source": [
    "poly = PolynomialFeatures()\n",
    "poly.fit([[2, 3]])\n",
    "poly.transform([[2, 3]])\n"
   ]
  },
  {
   "cell_type": "code",
   "execution_count": 150,
   "metadata": {},
   "outputs": [
    {
     "name": "stderr",
     "output_type": "stream",
     "text": [
      "C:\\Users\\admin\\AppData\\Local\\Packages\\PythonSoftwareFoundation.Python.3.10_qbz5n2kfra8p0\\LocalCache\\local-packages\\Python310\\site-packages\\sklearn\\utils\\deprecation.py:87: FutureWarning: Function get_feature_names is deprecated; get_feature_names is deprecated in 1.0 and will be removed in 1.2. Please use get_feature_names_out instead.\n",
      "  warnings.warn(msg, category=FutureWarning)\n"
     ]
    },
    {
     "data": {
      "text/plain": [
       "['1', 'x0', 'x1', 'x0^2', 'x0 x1', 'x1^2']"
      ]
     },
     "execution_count": 150,
     "metadata": {},
     "output_type": "execute_result"
    }
   ],
   "source": [
    "poly.get_feature_names()"
   ]
  },
  {
   "cell_type": "code",
   "execution_count": 151,
   "metadata": {},
   "outputs": [
    {
     "data": {
      "text/plain": [
       "array([[2., 3., 4., 6., 9.]])"
      ]
     },
     "execution_count": 151,
     "metadata": {},
     "output_type": "execute_result"
    }
   ],
   "source": [
    "poly = PolynomialFeatures(include_bias=False)\n",
    "poly.fit([[2, 3]])\n",
    "poly.transform([[2, 3]])"
   ]
  },
  {
   "cell_type": "code",
   "execution_count": 152,
   "metadata": {},
   "outputs": [
    {
     "name": "stderr",
     "output_type": "stream",
     "text": [
      "C:\\Users\\admin\\AppData\\Local\\Packages\\PythonSoftwareFoundation.Python.3.10_qbz5n2kfra8p0\\LocalCache\\local-packages\\Python310\\site-packages\\sklearn\\utils\\deprecation.py:87: FutureWarning: Function get_feature_names is deprecated; get_feature_names is deprecated in 1.0 and will be removed in 1.2. Please use get_feature_names_out instead.\n",
      "  warnings.warn(msg, category=FutureWarning)\n"
     ]
    },
    {
     "data": {
      "text/plain": [
       "['x0', 'x1', 'x0^2', 'x0 x1', 'x1^2']"
      ]
     },
     "execution_count": 152,
     "metadata": {},
     "output_type": "execute_result"
    }
   ],
   "source": [
    "poly.get_feature_names()"
   ]
  },
  {
   "cell_type": "markdown",
   "metadata": {},
   "source": [
    "##### 농어데이터 3개의 특징\n",
    "트랜스포머로 특징을 분리"
   ]
  },
  {
   "cell_type": "code",
   "execution_count": 153,
   "metadata": {},
   "outputs": [
    {
     "data": {
      "text/plain": [
       "(42, 9)"
      ]
     },
     "execution_count": 153,
     "metadata": {},
     "output_type": "execute_result"
    }
   ],
   "source": [
    "poly = PolynomialFeatures(include_bias=False)\n",
    "poly.fit(train_input) # 입력되는 값이 몇개의 특징을 가지고 있는지 알려줌\n",
    "train_poly = poly.transform(train_input)\n",
    "train_poly.shape"
   ]
  },
  {
   "cell_type": "code",
   "execution_count": 154,
   "metadata": {},
   "outputs": [
    {
     "name": "stderr",
     "output_type": "stream",
     "text": [
      "C:\\Users\\admin\\AppData\\Local\\Packages\\PythonSoftwareFoundation.Python.3.10_qbz5n2kfra8p0\\LocalCache\\local-packages\\Python310\\site-packages\\sklearn\\utils\\deprecation.py:87: FutureWarning: Function get_feature_names is deprecated; get_feature_names is deprecated in 1.0 and will be removed in 1.2. Please use get_feature_names_out instead.\n",
      "  warnings.warn(msg, category=FutureWarning)\n"
     ]
    },
    {
     "data": {
      "text/plain": [
       "['x0', 'x1', 'x2', 'x0^2', 'x0 x1', 'x0 x2', 'x1^2', 'x1 x2', 'x2^2']"
      ]
     },
     "execution_count": 154,
     "metadata": {},
     "output_type": "execute_result"
    }
   ],
   "source": [
    "poly.get_feature_names()"
   ]
  },
  {
   "cell_type": "code",
   "execution_count": 155,
   "metadata": {},
   "outputs": [
    {
     "data": {
      "text/plain": [
       "(14, 9)"
      ]
     },
     "execution_count": 155,
     "metadata": {},
     "output_type": "execute_result"
    }
   ],
   "source": [
    "test_poly = poly.transform(test_input)\n",
    "test_poly.shape"
   ]
  },
  {
   "cell_type": "markdown",
   "metadata": {},
   "source": [
    "#### 다중 회귀모델 훈련"
   ]
  },
  {
   "cell_type": "code",
   "execution_count": 156,
   "metadata": {},
   "outputs": [
    {
     "data": {
      "text/plain": [
       "0.9903183436982124"
      ]
     },
     "execution_count": 156,
     "metadata": {},
     "output_type": "execute_result"
    }
   ],
   "source": [
    "from sklearn.linear_model import LinearRegression\n",
    "\n",
    "lr = LinearRegression()\n",
    "lr.fit(X=train_poly, y=train_target)\n",
    "lr.score(X=train_poly, y=train_target)"
   ]
  },
  {
   "cell_type": "code",
   "execution_count": 157,
   "metadata": {},
   "outputs": [
    {
     "data": {
      "text/plain": [
       "0.9714559911594145"
      ]
     },
     "execution_count": 157,
     "metadata": {},
     "output_type": "execute_result"
    }
   ],
   "source": [
    "lr.score(X=test_poly, y=test_target)"
   ]
  },
  {
   "cell_type": "markdown",
   "metadata": {},
   "source": [
    "### 예측하기 위한 데이터도 변환"
   ]
  },
  {
   "cell_type": "code",
   "execution_count": 158,
   "metadata": {},
   "outputs": [
    {
     "data": {
      "text/plain": [
       "(1, 9)"
      ]
     },
     "execution_count": 158,
     "metadata": {},
     "output_type": "execute_result"
    }
   ],
   "source": [
    "pred_x = [[50.0, 13.5, 9.2]]\n",
    "poly_p = PolynomialFeatures(include_bias=False)\n",
    "poly_p.fit(pred_x) # 입력되는 값이 몇개의 특징을 가지고 있는지 알려줌\n",
    "pred_poly = poly.transform(pred_x)\n",
    "pred_poly.shape"
   ]
  },
  {
   "cell_type": "code",
   "execution_count": 159,
   "metadata": {},
   "outputs": [
    {
     "data": {
      "text/plain": [
       "array([[  50.  ,   13.5 ,    9.2 , 2500.  ,  675.  ,  460.  ,  182.25,\n",
       "         124.2 ,   84.64]])"
      ]
     },
     "execution_count": 159,
     "metadata": {},
     "output_type": "execute_result"
    }
   ],
   "source": [
    "pred_poly"
   ]
  },
  {
   "cell_type": "code",
   "execution_count": 160,
   "metadata": {},
   "outputs": [
    {
     "data": {
      "text/plain": [
       "array([1634.45893639])"
      ]
     },
     "execution_count": 160,
     "metadata": {},
     "output_type": "execute_result"
    }
   ],
   "source": [
    "# 9개의 특성으로 예측해야 함\n",
    "lr.predict(X=pred_poly)"
   ]
  },
  {
   "cell_type": "markdown",
   "metadata": {},
   "source": [
    "#### 추가적인 내용"
   ]
  },
  {
   "cell_type": "code",
   "execution_count": 161,
   "metadata": {},
   "outputs": [
    {
     "data": {
      "text/plain": [
       "(42, 55)"
      ]
     },
     "execution_count": 161,
     "metadata": {},
     "output_type": "execute_result"
    }
   ],
   "source": [
    "poly = PolynomialFeatures(degree=5, include_bias=False)\n",
    "poly.fit(train_input)\n",
    "train_poly = poly.transform(train_input)\n",
    "test_poly = poly.transform(test_input)\n",
    "train_poly.shape"
   ]
  },
  {
   "cell_type": "code",
   "execution_count": 162,
   "metadata": {},
   "outputs": [
    {
     "name": "stderr",
     "output_type": "stream",
     "text": [
      "C:\\Users\\admin\\AppData\\Local\\Packages\\PythonSoftwareFoundation.Python.3.10_qbz5n2kfra8p0\\LocalCache\\local-packages\\Python310\\site-packages\\sklearn\\utils\\deprecation.py:87: FutureWarning: Function get_feature_names is deprecated; get_feature_names is deprecated in 1.0 and will be removed in 1.2. Please use get_feature_names_out instead.\n",
      "  warnings.warn(msg, category=FutureWarning)\n"
     ]
    },
    {
     "data": {
      "text/plain": [
       "['x0',\n",
       " 'x1',\n",
       " 'x2',\n",
       " 'x0^2',\n",
       " 'x0 x1',\n",
       " 'x0 x2',\n",
       " 'x1^2',\n",
       " 'x1 x2',\n",
       " 'x2^2',\n",
       " 'x0^3',\n",
       " 'x0^2 x1',\n",
       " 'x0^2 x2',\n",
       " 'x0 x1^2',\n",
       " 'x0 x1 x2',\n",
       " 'x0 x2^2',\n",
       " 'x1^3',\n",
       " 'x1^2 x2',\n",
       " 'x1 x2^2',\n",
       " 'x2^3',\n",
       " 'x0^4',\n",
       " 'x0^3 x1',\n",
       " 'x0^3 x2',\n",
       " 'x0^2 x1^2',\n",
       " 'x0^2 x1 x2',\n",
       " 'x0^2 x2^2',\n",
       " 'x0 x1^3',\n",
       " 'x0 x1^2 x2',\n",
       " 'x0 x1 x2^2',\n",
       " 'x0 x2^3',\n",
       " 'x1^4',\n",
       " 'x1^3 x2',\n",
       " 'x1^2 x2^2',\n",
       " 'x1 x2^3',\n",
       " 'x2^4',\n",
       " 'x0^5',\n",
       " 'x0^4 x1',\n",
       " 'x0^4 x2',\n",
       " 'x0^3 x1^2',\n",
       " 'x0^3 x1 x2',\n",
       " 'x0^3 x2^2',\n",
       " 'x0^2 x1^3',\n",
       " 'x0^2 x1^2 x2',\n",
       " 'x0^2 x1 x2^2',\n",
       " 'x0^2 x2^3',\n",
       " 'x0 x1^4',\n",
       " 'x0 x1^3 x2',\n",
       " 'x0 x1^2 x2^2',\n",
       " 'x0 x1 x2^3',\n",
       " 'x0 x2^4',\n",
       " 'x1^5',\n",
       " 'x1^4 x2',\n",
       " 'x1^3 x2^2',\n",
       " 'x1^2 x2^3',\n",
       " 'x1 x2^4',\n",
       " 'x2^5']"
      ]
     },
     "execution_count": 162,
     "metadata": {},
     "output_type": "execute_result"
    }
   ],
   "source": [
    "poly.get_feature_names()"
   ]
  },
  {
   "cell_type": "code",
   "execution_count": 163,
   "metadata": {},
   "outputs": [
    {
     "data": {
      "text/plain": [
       "0.9999999999996176"
      ]
     },
     "execution_count": 163,
     "metadata": {},
     "output_type": "execute_result"
    }
   ],
   "source": [
    "lr.fit(train_poly, train_target)\n",
    "lr.score(train_poly, train_target)"
   ]
  },
  {
   "cell_type": "code",
   "execution_count": 164,
   "metadata": {},
   "outputs": [
    {
     "data": {
      "text/plain": [
       "-144.40585108215134"
      ]
     },
     "execution_count": 164,
     "metadata": {},
     "output_type": "execute_result"
    }
   ],
   "source": [
    "lr.score(test_poly, y=test_target)"
   ]
  },
  {
   "cell_type": "markdown",
   "metadata": {},
   "source": [
    "#### 표준화 작업\n",
    "\n",
    "입력값 - 평균 / 표준편차 -> 일정한 단위가 되도록"
   ]
  },
  {
   "cell_type": "code",
   "execution_count": 165,
   "metadata": {},
   "outputs": [
    {
     "data": {
      "text/html": [
       "<style>#sk-container-id-6 {color: black;background-color: white;}#sk-container-id-6 pre{padding: 0;}#sk-container-id-6 div.sk-toggleable {background-color: white;}#sk-container-id-6 label.sk-toggleable__label {cursor: pointer;display: block;width: 100%;margin-bottom: 0;padding: 0.3em;box-sizing: border-box;text-align: center;}#sk-container-id-6 label.sk-toggleable__label-arrow:before {content: \"▸\";float: left;margin-right: 0.25em;color: #696969;}#sk-container-id-6 label.sk-toggleable__label-arrow:hover:before {color: black;}#sk-container-id-6 div.sk-estimator:hover label.sk-toggleable__label-arrow:before {color: black;}#sk-container-id-6 div.sk-toggleable__content {max-height: 0;max-width: 0;overflow: hidden;text-align: left;background-color: #f0f8ff;}#sk-container-id-6 div.sk-toggleable__content pre {margin: 0.2em;color: black;border-radius: 0.25em;background-color: #f0f8ff;}#sk-container-id-6 input.sk-toggleable__control:checked~div.sk-toggleable__content {max-height: 200px;max-width: 100%;overflow: auto;}#sk-container-id-6 input.sk-toggleable__control:checked~label.sk-toggleable__label-arrow:before {content: \"▾\";}#sk-container-id-6 div.sk-estimator input.sk-toggleable__control:checked~label.sk-toggleable__label {background-color: #d4ebff;}#sk-container-id-6 div.sk-label input.sk-toggleable__control:checked~label.sk-toggleable__label {background-color: #d4ebff;}#sk-container-id-6 input.sk-hidden--visually {border: 0;clip: rect(1px 1px 1px 1px);clip: rect(1px, 1px, 1px, 1px);height: 1px;margin: -1px;overflow: hidden;padding: 0;position: absolute;width: 1px;}#sk-container-id-6 div.sk-estimator {font-family: monospace;background-color: #f0f8ff;border: 1px dotted black;border-radius: 0.25em;box-sizing: border-box;margin-bottom: 0.5em;}#sk-container-id-6 div.sk-estimator:hover {background-color: #d4ebff;}#sk-container-id-6 div.sk-parallel-item::after {content: \"\";width: 100%;border-bottom: 1px solid gray;flex-grow: 1;}#sk-container-id-6 div.sk-label:hover label.sk-toggleable__label {background-color: #d4ebff;}#sk-container-id-6 div.sk-serial::before {content: \"\";position: absolute;border-left: 1px solid gray;box-sizing: border-box;top: 0;bottom: 0;left: 50%;z-index: 0;}#sk-container-id-6 div.sk-serial {display: flex;flex-direction: column;align-items: center;background-color: white;padding-right: 0.2em;padding-left: 0.2em;position: relative;}#sk-container-id-6 div.sk-item {position: relative;z-index: 1;}#sk-container-id-6 div.sk-parallel {display: flex;align-items: stretch;justify-content: center;background-color: white;position: relative;}#sk-container-id-6 div.sk-item::before, #sk-container-id-6 div.sk-parallel-item::before {content: \"\";position: absolute;border-left: 1px solid gray;box-sizing: border-box;top: 0;bottom: 0;left: 50%;z-index: -1;}#sk-container-id-6 div.sk-parallel-item {display: flex;flex-direction: column;z-index: 1;position: relative;background-color: white;}#sk-container-id-6 div.sk-parallel-item:first-child::after {align-self: flex-end;width: 50%;}#sk-container-id-6 div.sk-parallel-item:last-child::after {align-self: flex-start;width: 50%;}#sk-container-id-6 div.sk-parallel-item:only-child::after {width: 0;}#sk-container-id-6 div.sk-dashed-wrapped {border: 1px dashed gray;margin: 0 0.4em 0.5em 0.4em;box-sizing: border-box;padding-bottom: 0.4em;background-color: white;}#sk-container-id-6 div.sk-label label {font-family: monospace;font-weight: bold;display: inline-block;line-height: 1.2em;}#sk-container-id-6 div.sk-label-container {text-align: center;}#sk-container-id-6 div.sk-container {/* jupyter's `normalize.less` sets `[hidden] { display: none; }` but bootstrap.min.css set `[hidden] { display: none !important; }` so we also need the `!important` here to be able to override the default hidden behavior on the sphinx rendered scikit-learn.org. See: https://github.com/scikit-learn/scikit-learn/issues/21755 */display: inline-block !important;position: relative;}#sk-container-id-6 div.sk-text-repr-fallback {display: none;}</style><div id=\"sk-container-id-6\" class=\"sk-top-container\"><div class=\"sk-text-repr-fallback\"><pre>StandardScaler()</pre><b>In a Jupyter environment, please rerun this cell to show the HTML representation or trust the notebook. <br />On GitHub, the HTML representation is unable to render, please try loading this page with nbviewer.org.</b></div><div class=\"sk-container\" hidden><div class=\"sk-item\"><div class=\"sk-estimator sk-toggleable\"><input class=\"sk-toggleable__control sk-hidden--visually\" id=\"sk-estimator-id-6\" type=\"checkbox\" checked><label for=\"sk-estimator-id-6\" class=\"sk-toggleable__label sk-toggleable__label-arrow\">StandardScaler</label><div class=\"sk-toggleable__content\"><pre>StandardScaler()</pre></div></div></div></div></div>"
      ],
      "text/plain": [
       "StandardScaler()"
      ]
     },
     "execution_count": 165,
     "metadata": {},
     "output_type": "execute_result"
    }
   ],
   "source": [
    "from sklearn.preprocessing import StandardScaler\n",
    "ss = StandardScaler()\n",
    "ss.fit(train_poly)"
   ]
  },
  {
   "cell_type": "code",
   "execution_count": 167,
   "metadata": {},
   "outputs": [
    {
     "data": {
      "text/plain": [
       "array([[19.6 ,  5.14,  3.04],\n",
       "       [22.  ,  5.88,  3.52],\n",
       "       [18.7 ,  5.2 ,  3.12],\n",
       "       [17.4 ,  4.59,  2.94],\n",
       "       [36.  , 10.61,  6.74],\n",
       "       [25.  ,  6.44,  3.68],\n",
       "       [40.  , 11.93,  7.11],\n",
       "       [39.  , 12.43,  7.35],\n",
       "       [43.  , 11.93,  7.28],\n",
       "       [22.  ,  5.64,  3.52],\n",
       "       [20.  ,  5.08,  2.77],\n",
       "       [22.  ,  6.11,  3.52],\n",
       "       [24.  ,  7.29,  3.72],\n",
       "       [27.5 ,  7.17,  4.34],\n",
       "       [43.  , 12.51,  7.42],\n",
       "       [40.  , 11.73,  7.22],\n",
       "       [24.  ,  6.38,  3.82],\n",
       "       [21.  ,  5.92,  3.31],\n",
       "       [27.5 ,  7.05,  4.34],\n",
       "       [40.  , 12.38,  7.46],\n",
       "       [32.8 , 10.03,  6.02],\n",
       "       [26.5 ,  7.17,  4.14],\n",
       "       [36.5 , 10.88,  6.86],\n",
       "       [13.7 ,  3.53,  2.  ],\n",
       "       [22.7 ,  5.95,  3.63],\n",
       "       [15.  ,  3.82,  2.43],\n",
       "       [37.  , 10.57,  6.37],\n",
       "       [35.  , 11.49,  7.8 ],\n",
       "       [28.7 ,  7.59,  4.64],\n",
       "       [23.5 ,  6.28,  3.72],\n",
       "       [39.  , 11.14,  6.  ],\n",
       "       [21.  ,  5.69,  3.56],\n",
       "       [23.  ,  5.22,  3.63],\n",
       "       [22.  ,  5.52,  4.  ],\n",
       "       [44.  , 12.49,  7.6 ],\n",
       "       [22.5 ,  6.79,  3.62],\n",
       "       [19.  ,  5.64,  3.05],\n",
       "       [37.  , 10.84,  6.26],\n",
       "       [22.  ,  6.11,  3.41],\n",
       "       [25.6 ,  6.56,  4.24],\n",
       "       [42.  , 12.8 ,  6.87],\n",
       "       [34.5 , 10.26,  6.39]])"
      ]
     },
     "execution_count": 167,
     "metadata": {},
     "output_type": "execute_result"
    }
   ],
   "source": [
    "train_input"
   ]
  },
  {
   "cell_type": "code",
   "execution_count": 168,
   "metadata": {},
   "outputs": [
    {
     "data": {
      "text/plain": [
       "array([[1.96000000e+01, 5.14000000e+00, 3.04000000e+00, ...,\n",
       "        7.42244501e+02, 4.38992857e+02, 2.59637799e+02],\n",
       "       [2.20000000e+01, 5.88000000e+00, 3.52000000e+00, ...,\n",
       "        1.50793507e+03, 9.02709432e+02, 5.40397483e+02],\n",
       "       [1.87000000e+01, 5.20000000e+00, 3.12000000e+00, ...,\n",
       "        8.21240709e+02, 4.92744425e+02, 2.95646655e+02],\n",
       "       ...,\n",
       "       [2.56000000e+01, 6.56000000e+00, 4.24000000e+00, ...,\n",
       "        3.28023719e+03, 2.12015331e+03, 1.37034299e+03],\n",
       "       [4.20000000e+01, 1.28000000e+01, 6.87000000e+00, ...,\n",
       "        5.31239245e+04, 2.85126063e+04, 1.53032504e+04],\n",
       "       [3.45000000e+01, 1.02600000e+01, 6.39000000e+00, ...,\n",
       "        2.74661189e+04, 1.71060916e+04, 1.06537939e+04]])"
      ]
     },
     "execution_count": 168,
     "metadata": {},
     "output_type": "execute_result"
    }
   ],
   "source": [
    "train_poly"
   ]
  },
  {
   "cell_type": "code",
   "execution_count": 169,
   "metadata": {},
   "outputs": [],
   "source": [
    "train_scaled = ss.transform(train_poly)\n",
    "test_scaled = ss.transform(test_poly)"
   ]
  },
  {
   "cell_type": "code",
   "execution_count": 170,
   "metadata": {},
   "outputs": [
    {
     "data": {
      "text/plain": [
       "array([[-1.01339619, -1.01007487, -1.01952321, ..., -0.76449499,\n",
       "        -0.75967179, -0.75143746],\n",
       "       [-0.73842893, -0.75254307, -0.74466913, ..., -0.73198449,\n",
       "        -0.72731765, -0.71950111],\n",
       "       [-1.11650891, -0.98919391, -0.97371419, ..., -0.76114089,\n",
       "        -0.75592147, -0.74734146],\n",
       "       ...,\n",
       "       [-0.32597805, -0.51589222, -0.33238802, ..., -0.65673421,\n",
       "        -0.64237495, -0.62509499],\n",
       "       [ 1.55296488,  1.65572732,  1.17358328, ...,  1.45958191,\n",
       "         1.19906225,  0.95977016],\n",
       "       [ 0.6936922 ,  0.7717668 ,  0.8987292 , ...,  0.3701756 ,\n",
       "         0.40321427,  0.43089551]])"
      ]
     },
     "execution_count": 170,
     "metadata": {},
     "output_type": "execute_result"
    }
   ],
   "source": [
    "train_scaled"
   ]
  },
  {
   "cell_type": "markdown",
   "metadata": {},
   "source": [
    "### 규제\n",
    "\n",
    "훈련세트에 치중해서 과대적합이 되지 않도록 해주는 작업 --> 릿지모델 / 라쏘모델\n",
    "\n",
    "### 릿지회귀모델"
   ]
  },
  {
   "cell_type": "code",
   "execution_count": 171,
   "metadata": {},
   "outputs": [
    {
     "data": {
      "text/plain": [
       "0.9896101671037343"
      ]
     },
     "execution_count": 171,
     "metadata": {},
     "output_type": "execute_result"
    }
   ],
   "source": [
    "from sklearn.linear_model import Ridge\n",
    "\n",
    "ridge = Ridge()\n",
    "ridge.fit(X=train_scaled, y=train_target)   # 훈련은 fit, score로 이 모델이 적합한지 보여줌\n",
    "ridge.score(X=train_scaled, y=train_target)"
   ]
  },
  {
   "cell_type": "code",
   "execution_count": 172,
   "metadata": {},
   "outputs": [
    {
     "data": {
      "text/plain": [
       "0.9790693977615383"
      ]
     },
     "execution_count": 172,
     "metadata": {},
     "output_type": "execute_result"
    }
   ],
   "source": [
    "ridge.score(X=test_scaled, y=test_target)"
   ]
  },
  {
   "cell_type": "markdown",
   "metadata": {},
   "source": [
    "#### 하이퍼파라미터 alpha값 찾기"
   ]
  },
  {
   "cell_type": "code",
   "execution_count": 173,
   "metadata": {},
   "outputs": [],
   "source": [
    "train_score = []\n",
    "test_score = []"
   ]
  },
  {
   "cell_type": "code",
   "execution_count": 174,
   "metadata": {},
   "outputs": [],
   "source": [
    "alpha_list = [0.001, 0.01, 0.1, 1, 10, 100]\n",
    "\n",
    "for alpha in alpha_list: # 여섯번 훈련\n",
    "    ridge = Ridge(alpha=alpha) # 알파값을 변경하면서 생성 6번\n",
    "    ridge.fit(X=train_scaled, y=train_target)\n",
    "\n",
    "    train_score.append(ridge.score(X=train_scaled, y=train_target))\n",
    "    test_score.append(ridge.score(X=test_scaled, y=test_target))"
   ]
  },
  {
   "cell_type": "code",
   "execution_count": 175,
   "metadata": {},
   "outputs": [
    {
     "data": {
      "text/plain": [
       "[0.9930455252088513,\n",
       " 0.9917809981250514,\n",
       " 0.9903815817570366,\n",
       " 0.9896101671037343,\n",
       " 0.988728468997471,\n",
       " 0.9841843235774494]"
      ]
     },
     "execution_count": 175,
     "metadata": {},
     "output_type": "execute_result"
    }
   ],
   "source": [
    "train_score"
   ]
  },
  {
   "cell_type": "code",
   "execution_count": 176,
   "metadata": {},
   "outputs": [
    {
     "data": {
      "text/plain": [
       "[0.9569388961546104,\n",
       " 0.9800187936870526,\n",
       " 0.9827976465386937,\n",
       " 0.9790693977615383,\n",
       " 0.9725329582461569,\n",
       " 0.9627042641050291]"
      ]
     },
     "execution_count": 176,
     "metadata": {},
     "output_type": "execute_result"
    }
   ],
   "source": [
    "test_score"
   ]
  },
  {
   "cell_type": "code",
   "execution_count": 177,
   "metadata": {},
   "outputs": [
    {
     "data": {
      "image/png": "[encoded data removed]",
      "text/plain": [
       "<Figure size 720x360 with 1 Axes>"
      ]
     },
     "metadata": {},
     "output_type": "display_data"
    }
   ],
   "source": [
    "plt.figure(figsize=(10,5))\n",
    "plt.plot(alpha_list, train_score)\n",
    "plt.plot(alpha_list, test_score)\n",
    "plt.show()"
   ]
  },
  {
   "cell_type": "code",
   "execution_count": 178,
   "metadata": {},
   "outputs": [
    {
     "data": {
      "image/png": "[encoded data removed]",
      "text/plain": [
       "<Figure size 720x360 with 1 Axes>"
      ]
     },
     "metadata": {},
     "output_type": "display_data"
    }
   ],
   "source": [
    "plt.figure(figsize=(10,5))\n",
    "plt.plot(np.log10(alpha_list), train_score)\n",
    "plt.plot(np.log10(alpha_list), test_score)\n",
    "plt.show()"
   ]
  },
  {
   "cell_type": "code",
   "execution_count": 179,
   "metadata": {},
   "outputs": [
    {
     "name": "stdout",
     "output_type": "stream",
     "text": [
      "0.9903815817570366\n",
      "0.9827976465386937\n"
     ]
    }
   ],
   "source": [
    "# alpha값은 -1 = 0.1이 되면 가장 적당\n",
    "ridge = Ridge(alpha=0.1) # 알파값을 변경하면서 생성 6번\n",
    "ridge.fit(X=train_scaled, y=train_target)\n",
    "\n",
    "print(ridge.score(X=train_scaled, y=train_target))\n",
    "print(ridge.score(X=test_scaled, y=test_target))"
   ]
  },
  {
   "cell_type": "code",
   "execution_count": 180,
   "metadata": {},
   "outputs": [
    {
     "name": "stdout",
     "output_type": "stream",
     "text": [
      "[ 27.61933479  -1.64022156 -19.73256036  30.0306195   16.99800255\n",
      "  17.83247301   4.46928273   3.87258547  22.8351822   19.50417483\n",
      "  17.75985317  14.53122144  13.34875736   7.57294011  19.2573194\n",
      "   5.12766348  -2.05671393  10.62376405  41.72322888   5.90722851\n",
      "  14.93389276  -0.4506018   19.86035413   1.27084276  -1.00708878\n",
      "  19.69043816  -1.15817017  -3.57357468  11.96629206  13.68484378\n",
      "  -8.41738209  -9.97919956   8.42421045  45.51544903  -6.23828569\n",
      "  13.36080282 -17.64759601  28.23566212  -6.56619234 -25.89115813\n",
      "  37.3785331   -0.39779345 -20.82275921 -23.80607786  39.96650626\n",
      "   0.10569722 -20.49768851 -21.74712923  -4.12579289  35.39224119\n",
      "  -5.59195    -25.3889504  -23.93962265  -1.89229971  39.44235556]\n",
      "400.8333333333333\n"
     ]
    }
   ],
   "source": [
    "print(ridge.coef_)\n",
    "print(ridge.intercept_)"
   ]
  },
  {
   "cell_type": "markdown",
   "metadata": {},
   "source": [
    "#### 라쏘회귀모델"
   ]
  },
  {
   "cell_type": "code",
   "execution_count": 181,
   "metadata": {},
   "outputs": [
    {
     "name": "stdout",
     "output_type": "stream",
     "text": [
      "0.9888067471131867\n",
      "0.9824470598706695\n"
     ]
    }
   ],
   "source": [
    "from sklearn.linear_model import Lasso\n",
    "\n",
    "lasso = Lasso(alpha=10)\n",
    "lasso.fit(X=train_scaled, y=train_target)\n",
    "print(lasso.score(X=train_scaled, y=train_target))\n",
    "print(lasso.score(X=test_scaled, y=test_target))"
   ]
  },
  {
   "cell_type": "code",
   "execution_count": 182,
   "metadata": {},
   "outputs": [
    {
     "name": "stdout",
     "output_type": "stream",
     "text": [
      "[ 0.          0.          0.         12.14852453 55.44856399 42.23100799\n",
      "  0.          0.         13.70596191  0.         43.2185952   5.7033775\n",
      " 47.46254536  7.42309425 11.85823365  0.          0.         13.53038193\n",
      " 21.22111356  0.          0.          0.          0.          0.\n",
      "  0.         18.66993032  0.          0.          0.         15.81041778\n",
      "  0.          0.          0.          0.          0.          0.\n",
      "  0.          0.          0.          0.          0.          0.\n",
      "  0.          0.         18.14672268  0.          0.          0.\n",
      "  0.         15.51272953  0.          0.          0.          0.\n",
      "  0.        ]\n",
      "400.8333333333333\n"
     ]
    }
   ],
   "source": [
    "print(lasso.coef_)\n",
    "print(lasso.intercept_)"
   ]
  },
  {
   "cell_type": "code",
   "execution_count": null,
   "metadata": {},
   "outputs": [],
   "source": []
  }
 ],
 "metadata": {
  "kernelspec": {
   "display_name": "Python 3.10.6 64-bit (windows store)",
   "language": "python",
   "name": "python3"
  },
  "language_info": {
   "codemirror_mode": {
    "name": "ipython",
    "version": 3
   },
   "file_extension": ".py",
   "mimetype": "text/x-python",
   "name": "python",
   "nbconvert_exporter": "python",
   "pygments_lexer": "ipython3",
   "version": "3.10.6"
  },
  "orig_nbformat": 4,
  "vscode": {
   "interpreter": {
    "hash": "8bf0d51478355d2251941b3b98616086516a0eddd7c72ee47a3371765770709a"
   }
  }
 },
 "nbformat": 4,
 "nbformat_minor": 2
}
